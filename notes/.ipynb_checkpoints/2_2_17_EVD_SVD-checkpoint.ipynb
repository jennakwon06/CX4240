{
 "cells": [
  {
   "cell_type": "markdown",
   "metadata": {
    "collapsed": true
   },
   "source": [
    "# Goals for this session\n",
    "\n",
    "1. Perform EVD\n",
    "2. Explore properties of EVD\n",
    "3. Perform SVD \n",
    "4. Explore properties of SVD\n",
    "5. Be able to explain differences and relationships between EVD and SVD"
   ]
  },
  {
   "cell_type": "code",
   "execution_count": 1,
   "metadata": {
    "collapsed": false
   },
   "outputs": [],
   "source": [
    "import numpy as np\n",
    "np.set_printoptions(suppress=True) # make floats display nicer"
   ]
  },
  {
   "cell_type": "markdown",
   "metadata": {},
   "source": [
    "# 1. Eigen Value Decomposition\n",
    "\n",
    "\n",
    "\n",
    "### What are Eigenvalues and Eigenvectors?\n",
    "\n",
    "Think of a (n X n) matrix $A$ as a linear operator. When you multiply a vector $x$ with $A$, you are performing operations upon $x$ such as rotation and scaling. \n",
    "\n",
    "<i> Eigenvectors </i> are special vectors that do not become rotated when multipled with A. Instead, you get them back scaled by a scalar, called <i> eigenvalue</i>. \n",
    "\n",
    "In other words, following holds for an eigenvector $v$ : $Av = \\lambda v$ \n",
    "\n",
    "\n",
    "### What is EVD?\n",
    "\n",
    "Performing Eigen Value Decomposition (EVD) is to do the following:\n",
    "\n",
    "$ A = V W V^{-1} $\n",
    "\n",
    "Where:   \n",
    "$V$ is the square matrix whose columns are the eigenvectors   \n",
    "W is the diagnoal matrix whose diagnomal elements are the corresponding eigenvalues. \n",
    "\n",
    "To demonstrate EVD, We will be using Numpy's linalg.eig function, whose detailed documentation can be found here:  \n",
    "https://docs.scipy.org/doc/numpy-1.10.0/reference/generated/numpy.linalg.eig.html\n"
   ]
  },
  {
   "cell_type": "code",
   "execution_count": 2,
   "metadata": {
    "collapsed": false
   },
   "outputs": [
    {
     "data": {
      "text/plain": [
       "array([[1, 0, 0, 0, 0],\n",
       "       [0, 2, 0, 0, 0],\n",
       "       [0, 0, 3, 0, 0],\n",
       "       [0, 0, 0, 4, 0],\n",
       "       [0, 0, 0, 0, 5]])"
      ]
     },
     "execution_count": 2,
     "metadata": {},
     "output_type": "execute_result"
    }
   ],
   "source": [
    "n = 5\n",
    "A = np.diag((1,2,3,4,5))\n",
    "A"
   ]
  },
  {
   "cell_type": "code",
   "execution_count": 3,
   "metadata": {
    "collapsed": false
   },
   "outputs": [
    {
     "name": "stdout",
     "output_type": "stream",
     "text": [
      "Eigenvalues [ 1.  2.  3.  4.  5.]\n",
      "\n",
      "Each column is an eigenvector \n",
      "\n",
      "[[ 1.  0.  0.  0.  0.]\n",
      " [ 0.  1.  0.  0.  0.]\n",
      " [ 0.  0.  1.  0.  0.]\n",
      " [ 0.  0.  0.  1.  0.]\n",
      " [ 0.  0.  0.  0.  1.]]\n"
     ]
    }
   ],
   "source": [
    "w, v = np.linalg.eig(A)\n",
    "print \"Eigenvalues\", w\n",
    "\n",
    "print \"\\nEach column is an eigenvector \\n\"\n",
    "print v"
   ]
  },
  {
   "cell_type": "markdown",
   "metadata": {},
   "source": [
    "# 2. Exploring Properties of EVD"
   ]
  },
  {
   "cell_type": "markdown",
   "metadata": {},
   "source": [
    "### Property 1. Only diagonalizable matrices can be decomposed \n",
    "\n",
    "This means that the (n x n) matrix must have n linearly independent eigenvectors. "
   ]
  },
  {
   "cell_type": "code",
   "execution_count": 4,
   "metadata": {
    "collapsed": false
   },
   "outputs": [
    {
     "name": "stdout",
     "output_type": "stream",
     "text": [
      "A non-diagnolizable matrix\n",
      "[[ 1.  1.]\n",
      " [ 0.  1.]] \n",
      "\n",
      "After decomposition....\n",
      "Eigenvalues:  [ 1.  1.] \n",
      "\n",
      "A_INVALID CANNOT BE DIAGONLIZED.\n",
      "[[ 1. -1.]\n",
      " [ 0.  0.]]\n"
     ]
    }
   ],
   "source": [
    "A_invalid = np.ones((2,2))\n",
    "A_invalid[1,0] = 0\n",
    "print \"A non-diagnolizable matrix\\n\", A_invalid, '\\n'\n",
    "\n",
    "w_invalid, v_invalid = np.linalg.eig(A_invalid)\n",
    "print \"After decomposition....\"\n",
    "print \"Eigenvalues: \", w_invalid, '\\n\\nA_INVALID CANNOT BE DIAGONLIZED.\\n', v_invalid"
   ]
  },
  {
   "cell_type": "markdown",
   "metadata": {},
   "source": [
    "### Property 2. $Av = \\lambda v$  \n",
    "\n",
    "Let $\\lambda_{1} ... \\lambda_{n}$ be series of eigenvalues\n",
    "Let $v_{1} ... v_{n}$ be series of eigenvectors. Then, \n",
    "\n",
    "A$v_{1}$ = $\\lambda_{1}v_{1} \\\\$  \n",
    "A$v_{2}$ = $\\lambda_{2}v_{2} \\\\$  \n",
    "...  \n",
    "A$v_{n}$ = $\\lambda_{n}v_{n} \\\\$\n",
    "\n",
    "\n",
    "<b> In python notation, </b>\n",
    "\n",
    "dot(A[:,:], v[:,i]) = w[i] * v[:,i] for $i \\in \\{0,...,M-1\\}$\n",
    "\n"
   ]
  },
  {
   "cell_type": "code",
   "execution_count": 5,
   "metadata": {
    "collapsed": false
   },
   "outputs": [
    {
     "name": "stdout",
     "output_type": "stream",
     "text": [
      "Checking eigenvalue  0 ...\n",
      "[ 1.  0.  0.  0.  0.]\n",
      "[ 1.  0.  0.  0.  0.]\n",
      "Checking eigenvalue  1 ...\n",
      "[ 0.  2.  0.  0.  0.]\n",
      "[ 0.  2.  0.  0.  0.]\n",
      "Checking eigenvalue  2 ...\n",
      "[ 0.  0.  3.  0.  0.]\n",
      "[ 0.  0.  3.  0.  0.]\n",
      "Checking eigenvalue  3 ...\n",
      "[ 0.  0.  0.  4.  0.]\n",
      "[ 0.  0.  0.  4.  0.]\n",
      "Checking eigenvalue  4 ...\n",
      "[ 0.  0.  0.  0.  5.]\n",
      "[ 0.  0.  0.  0.  5.]\n"
     ]
    }
   ],
   "source": [
    "for i in range(0, 5):\n",
    "    print \"Checking eigenvalue \", i, \"...\"\n",
    "    print np.dot(A, v[:,i])\n",
    "    print np.dot(w[i], v[:, i])"
   ]
  },
  {
   "cell_type": "markdown",
   "metadata": {},
   "source": [
    "### Property 3. Vector norm of eigenvectors\n",
    "\n",
    "||$V_{i}$|| = 1\n",
    "\n"
   ]
  },
  {
   "cell_type": "code",
   "execution_count": 6,
   "metadata": {
    "collapsed": false
   },
   "outputs": [
    {
     "name": "stdout",
     "output_type": "stream",
     "text": [
      "[ 1.  1.  1.  1.  1.]\n"
     ]
    }
   ],
   "source": [
    "print np.sum(v**2, axis=0)"
   ]
  },
  {
   "cell_type": "markdown",
   "metadata": {},
   "source": [
    "### Property 4. Similarity between eigenvectors"
   ]
  },
  {
   "cell_type": "markdown",
   "metadata": {},
   "source": [
    "$V_{i}^{T} V_{j}$\n",
    "\n",
    "= 1 if $i = j$,  \n",
    "  0 if $i \\neq j$\n",
    "\n",
    "This means that inner product between eigenvectors are 0 if they are distinct vectors.  \n",
    "Intuitively, this means that they are linearly independent (share no similarity)"
   ]
  },
  {
   "cell_type": "code",
   "execution_count": 7,
   "metadata": {
    "collapsed": false
   },
   "outputs": [
    {
     "name": "stdout",
     "output_type": "stream",
     "text": [
      "Indices (0, 0) Inner Product  1.00\n",
      "Indices (0, 1) Inner Product  0.00\n",
      "Indices (0, 2) Inner Product  0.00\n",
      "Indices (0, 3) Inner Product  0.00\n",
      "Indices (0, 4) Inner Product  0.00\n",
      "Indices (1, 0) Inner Product  0.00\n",
      "Indices (1, 1) Inner Product  1.00\n",
      "Indices (1, 2) Inner Product  0.00\n",
      "Indices (1, 3) Inner Product  0.00\n",
      "Indices (1, 4) Inner Product  0.00\n",
      "Indices (2, 0) Inner Product  0.00\n",
      "Indices (2, 1) Inner Product  0.00\n",
      "Indices (2, 2) Inner Product  1.00\n",
      "Indices (2, 3) Inner Product  0.00\n",
      "Indices (2, 4) Inner Product  0.00\n",
      "Indices (3, 0) Inner Product  0.00\n",
      "Indices (3, 1) Inner Product  0.00\n",
      "Indices (3, 2) Inner Product  0.00\n",
      "Indices (3, 3) Inner Product  1.00\n",
      "Indices (3, 4) Inner Product  0.00\n",
      "Indices (4, 0) Inner Product  0.00\n",
      "Indices (4, 1) Inner Product  0.00\n",
      "Indices (4, 2) Inner Product  0.00\n",
      "Indices (4, 3) Inner Product  0.00\n",
      "Indices (4, 4) Inner Product  1.00\n"
     ]
    }
   ],
   "source": [
    "for i in range(0, 5):\n",
    "    for j in range(0, 5):\n",
    "        print \"Indices\", (i, j), \"Inner Product \", '{:.2f}'.format(np.inner(v[:, i], v[:, j]))"
   ]
  },
  {
   "cell_type": "markdown",
   "metadata": {},
   "source": [
    "### Things to watch out for\n",
    "\n",
    "- Many matrices are NOT diagnolizable and may have complex eigenvalues as seen in lecture.   \n",
    "If you know that eigen values must be REAL Because A is a positive definite matrix, then use \"np.real_if_close(x)\""
   ]
  },
  {
   "cell_type": "markdown",
   "metadata": {},
   "source": [
    "# 3. Singular Value Decomposition \n",
    "\n",
    "What if you want to decompose a non-square matrix? You cannot do this with EVD. Why? \n",
    "\n",
    "Think about the dimensions of matrices and vectors when you perform $Av = \\lambda v$. If $A$ was a (n x m) matrix, then v must be a (m x 1) vector, yielding $Av$ to be a (n x 1)  vector. This means the right side of the equation also has to yield a (n x 1) dimensional vector, but $v$ was a (m x 1) vector to begin with. Since A is a non-square matrix, $ m \\neq n$. \n",
    "\n",
    "This means that we need a more genrealized method for matrix decomposition, and this is precisely what SVD is used for. \n",
    "\n",
    "SVD of a matrx A does the following:\n",
    "\n",
    "$A = U S V^{T} $\n",
    "\n",
    "where:\n",
    "$A$ is a (m x n) matrix  \n",
    "$U$ is a $m * m$ orthonormal matrix of 'left-singular' (eigen)vectors of $AA^{T}$,  \n",
    "$V^{T}$ is a $n * n$ orthonormal matrix of 'right-singular' (eigen)vectors of $A^{T}A$  \n",
    "$S$ is a $m * n$ diagonal matrix of the square root of nonzero eigenvalues (called singular values denoted by $\\sigma$)  of $U$ _or_ $V$, ordered by decreasing size. \n",
    "\n",
    "There are many applications with SVD as solving systems of differential equations, linear systems, etc. Later in the course, we will be using an unsupervised learning technique called PCA (Principle Component Analysis) whose fundamentals are based on EVD.\n",
    "\n",
    "We use numpy.linalg.svd to demonstrate SVD technique whose detailed documentation can be found here:  \n",
    "https://docs.scipy.org/doc/numpy-1.10.0/reference/generated/numpy.linalg.svd.html"
   ]
  },
  {
   "cell_type": "code",
   "execution_count": 8,
   "metadata": {
    "collapsed": false
   },
   "outputs": [
    {
     "data": {
      "text/plain": [
       "array([[ 0.3751711 ,  0.50996454,  0.75087626],\n",
       "       [ 0.4510726 ,  0.03409879,  0.3704101 ],\n",
       "       [ 0.56056348,  0.92812628,  0.76030247],\n",
       "       [ 0.86799527,  0.37974461,  0.59300955],\n",
       "       [ 0.19279261,  0.38309154,  0.84635845]])"
      ]
     },
     "execution_count": 8,
     "metadata": {},
     "output_type": "execute_result"
    }
   ],
   "source": [
    "n = 5\n",
    "m = 3\n",
    "A2 = np.random.rand(n, m)\n",
    "A2"
   ]
  },
  {
   "cell_type": "code",
   "execution_count": 9,
   "metadata": {
    "collapsed": false
   },
   "outputs": [
    {
     "name": "stdout",
     "output_type": "stream",
     "text": [
      "[[-0.44722988 -0.21837726  0.16675924 -0.19702863 -0.82805065]\n",
      " [-0.23080469  0.45554492  0.37334808 -0.73170949  0.25381185]\n",
      " [-0.59291922 -0.27494397 -0.65690476 -0.21152451  0.3107831 ]\n",
      " [-0.48085862  0.69149227 -0.05563377  0.53276918 -0.0606244 ]\n",
      " [-0.40489063 -0.43707489  0.63101789  0.31176165  0.38684649]] \n",
      "\n",
      "[ 2.17312386  0.57271222  0.39905024] \n",
      "\n",
      "[[-0.50604993 -0.51720894 -0.69022342]\n",
      " [ 0.84750881 -0.4467568  -0.28659584]\n",
      " [-0.16013208 -0.73000224  0.66442038]]\n"
     ]
    }
   ],
   "source": [
    "U, s, V = np.linalg.svd(A2, full_matrices=True)\n",
    "\n",
    "print U, '\\n\\n', s, '\\n\\n' ,V"
   ]
  },
  {
   "cell_type": "markdown",
   "metadata": {},
   "source": [
    "Each element of the vector in the middle are singular values. You may have expected a diagnomal matrix whose diagnoals are singular value, but this vector essentially is a compressed form of that diagnomal matrix.\n",
    "\n",
    "In other words, we can re-shape this vector."
   ]
  },
  {
   "cell_type": "code",
   "execution_count": 10,
   "metadata": {
    "collapsed": false
   },
   "outputs": [
    {
     "data": {
      "text/plain": [
       "array([[ 2.17312386,  0.        ,  0.        ],\n",
       "       [ 0.        ,  0.57271222,  0.        ],\n",
       "       [ 0.        ,  0.        ,  0.39905024],\n",
       "       [ 0.        ,  0.        ,  0.        ],\n",
       "       [ 0.        ,  0.        ,  0.        ]])"
      ]
     },
     "execution_count": 10,
     "metadata": {},
     "output_type": "execute_result"
    }
   ],
   "source": [
    "s_reshaped = np.concatenate((np.diag(s), np.zeros((n - len(s), m))))\n",
    "s_reshaped"
   ]
  },
  {
   "cell_type": "markdown",
   "metadata": {},
   "source": [
    "# 4. Exploring Properties of SVD\n",
    "\n",
    "### Property 1. U and V are orthonormal matrices"
   ]
  },
  {
   "cell_type": "code",
   "execution_count": 11,
   "metadata": {
    "collapsed": false
   },
   "outputs": [
    {
     "name": "stdout",
     "output_type": "stream",
     "text": [
      "[[ 1. -0. -0.]\n",
      " [-0.  1. -0.]\n",
      " [-0. -0.  1.]] \n",
      "\n",
      "[[ 1.  0. -0. -0. -0.]\n",
      " [ 0.  1.  0. -0.  0.]\n",
      " [-0.  0.  1. -0. -0.]\n",
      " [-0. -0. -0.  1.  0.]\n",
      " [-0.  0. -0.  0.  1.]]\n"
     ]
    }
   ],
   "source": [
    "print np.dot(V, V.T), '\\n'\n",
    "print np.dot(U, U.T)"
   ]
  },
  {
   "cell_type": "markdown",
   "metadata": {},
   "source": [
    "@TODO more properties to be discussed in next lecture. "
   ]
  },
  {
   "cell_type": "markdown",
   "metadata": {},
   "source": [
    "## Restoring A From U, s, V \n",
    "\n",
    "We can reconstruct A with U, s_reshaped, V"
   ]
  },
  {
   "cell_type": "code",
   "execution_count": 12,
   "metadata": {
    "collapsed": false
   },
   "outputs": [
    {
     "name": "stdout",
     "output_type": "stream",
     "text": [
      "[[ 0.3751711   0.50996454  0.75087626]\n",
      " [ 0.4510726   0.03409879  0.3704101 ]\n",
      " [ 0.56056348  0.92812628  0.76030247]\n",
      " [ 0.86799527  0.37974461  0.59300955]\n",
      " [ 0.19279261  0.38309154  0.84635845]]\n",
      "\n",
      " Compare with original....\n",
      " \n",
      "[[ 0.3751711   0.50996454  0.75087626]\n",
      " [ 0.4510726   0.03409879  0.3704101 ]\n",
      " [ 0.56056348  0.92812628  0.76030247]\n",
      " [ 0.86799527  0.37974461  0.59300955]\n",
      " [ 0.19279261  0.38309154  0.84635845]]\n"
     ]
    }
   ],
   "source": [
    "A2_restored = np.dot(U, np.dot(s_reshaped, V))\n",
    "print A2_restored\n",
    "print \"\\n Compare with original....\\n \"\n",
    "print A2"
   ]
  }
 ],
 "metadata": {
  "anaconda-cloud": {},
  "kernelspec": {
   "display_name": "Python [conda root]",
   "language": "python",
   "name": "conda-root-py"
  },
  "language_info": {
   "codemirror_mode": {
    "name": "ipython",
    "version": 2
   },
   "file_extension": ".py",
   "mimetype": "text/x-python",
   "name": "python",
   "nbconvert_exporter": "python",
   "pygments_lexer": "ipython2",
   "version": "2.7.12"
  }
 },
 "nbformat": 4,
 "nbformat_minor": 1
}
