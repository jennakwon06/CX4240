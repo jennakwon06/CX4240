{
 "cells": [
  {
   "cell_type": "code",
   "execution_count": 1,
   "metadata": {
    "collapsed": true
   },
   "outputs": [],
   "source": [
    "import numpy as np\n",
    "import time"
   ]
  },
  {
   "cell_type": "code",
   "execution_count": 2,
   "metadata": {
    "collapsed": true
   },
   "outputs": [],
   "source": [
    "# avoid for loop\n",
    "# re-organize computatoin to speed things up. \n",
    "\n",
    "A = np.array([2, 3, 4])"
   ]
  },
  {
   "cell_type": "code",
   "execution_count": 3,
   "metadata": {
    "collapsed": false
   },
   "outputs": [
    {
     "name": "stdout",
     "output_type": "stream",
     "text": [
      "[2 3 4]\n"
     ]
    }
   ],
   "source": [
    "print A"
   ]
  },
  {
   "cell_type": "code",
   "execution_count": 4,
   "metadata": {
    "collapsed": false
   },
   "outputs": [
    {
     "name": "stdout",
     "output_type": "stream",
     "text": [
      "(3L,)\n"
     ]
    }
   ],
   "source": [
    "print A.shape"
   ]
  },
  {
   "cell_type": "code",
   "execution_count": 5,
   "metadata": {
    "collapsed": true
   },
   "outputs": [],
   "source": [
    "A = np.array([[2,3,4]])"
   ]
  },
  {
   "cell_type": "code",
   "execution_count": 6,
   "metadata": {
    "collapsed": false
   },
   "outputs": [
    {
     "name": "stdout",
     "output_type": "stream",
     "text": [
      "(1L, 3L)\n"
     ]
    }
   ],
   "source": [
    "print A.shape"
   ]
  },
  {
   "cell_type": "code",
   "execution_count": 7,
   "metadata": {
    "collapsed": false
   },
   "outputs": [
    {
     "name": "stdout",
     "output_type": "stream",
     "text": [
      "[[2]\n",
      " [3]\n",
      " [4]]\n"
     ]
    }
   ],
   "source": [
    "print A.transpose()"
   ]
  },
  {
   "cell_type": "code",
   "execution_count": 8,
   "metadata": {
    "collapsed": true
   },
   "outputs": [],
   "source": [
    "B = np.array([[2,3,4],[5,6,7]])"
   ]
  },
  {
   "cell_type": "code",
   "execution_count": 9,
   "metadata": {
    "collapsed": false
   },
   "outputs": [
    {
     "name": "stdout",
     "output_type": "stream",
     "text": [
      "[[2 3 4]\n",
      " [5 6 7]]\n"
     ]
    }
   ],
   "source": [
    "print B"
   ]
  },
  {
   "cell_type": "code",
   "execution_count": 10,
   "metadata": {
    "collapsed": true
   },
   "outputs": [],
   "source": [
    "C = np.random.rand(3, 5)"
   ]
  },
  {
   "cell_type": "code",
   "execution_count": 11,
   "metadata": {
    "collapsed": false
   },
   "outputs": [
    {
     "name": "stdout",
     "output_type": "stream",
     "text": [
      "[[ 0.01281912  0.8994938   0.67330084  0.50507029  0.5480133 ]\n",
      " [ 0.01259382  0.55612777  0.15540983  0.63100436  0.42677098]\n",
      " [ 0.02461232  0.82153616  0.56922867  0.9417139   0.54813214]]\n"
     ]
    }
   ],
   "source": [
    "print C"
   ]
  },
  {
   "cell_type": "code",
   "execution_count": 12,
   "metadata": {
    "collapsed": true
   },
   "outputs": [],
   "source": [
    "D = np.random.randn(3, 5)"
   ]
  },
  {
   "cell_type": "code",
   "execution_count": 13,
   "metadata": {
    "collapsed": false
   },
   "outputs": [
    {
     "name": "stdout",
     "output_type": "stream",
     "text": [
      "[[ 1.46268962 -2.43303637  1.13827287 -0.70339552  1.40276814]\n",
      " [-1.79136156 -0.02666333 -0.79280865 -0.11956946 -0.08716137]\n",
      " [-0.18842991 -0.72522142 -0.36657157  1.13856859 -0.84178757]]\n"
     ]
    }
   ],
   "source": [
    "print D"
   ]
  },
  {
   "cell_type": "code",
   "execution_count": 15,
   "metadata": {
    "collapsed": false
   },
   "outputs": [],
   "source": [
    "Z = np.zeros((3, 5))"
   ]
  },
  {
   "cell_type": "code",
   "execution_count": 16,
   "metadata": {
    "collapsed": false
   },
   "outputs": [
    {
     "name": "stdout",
     "output_type": "stream",
     "text": [
      "[[ 0.  0.  0.  0.  0.]\n",
      " [ 0.  0.  0.  0.  0.]\n",
      " [ 0.  0.  0.  0.  0.]]\n"
     ]
    }
   ],
   "source": [
    "print Z"
   ]
  },
  {
   "cell_type": "code",
   "execution_count": 17,
   "metadata": {
    "collapsed": true
   },
   "outputs": [],
   "source": [
    "O = np.ones((3,5))"
   ]
  },
  {
   "cell_type": "code",
   "execution_count": 18,
   "metadata": {
    "collapsed": false
   },
   "outputs": [
    {
     "name": "stdout",
     "output_type": "stream",
     "text": [
      "[[ 1.  1.  1.  1.  1.]\n",
      " [ 1.  1.  1.  1.  1.]\n",
      " [ 1.  1.  1.  1.  1.]]\n"
     ]
    }
   ],
   "source": [
    "print O"
   ]
  },
  {
   "cell_type": "code",
   "execution_count": 19,
   "metadata": {
    "collapsed": false
   },
   "outputs": [
    {
     "name": "stdout",
     "output_type": "stream",
     "text": [
      "[[0 0 0 0 0 0 0 0 0 0]\n",
      " [0 1 0 0 0 0 0 0 0 0]\n",
      " [0 0 2 0 0 0 0 0 0 0]\n",
      " [0 0 0 3 0 0 0 0 0 0]\n",
      " [0 0 0 0 4 0 0 0 0 0]\n",
      " [0 0 0 0 0 5 0 0 0 0]\n",
      " [0 0 0 0 0 0 6 0 0 0]\n",
      " [0 0 0 0 0 0 0 7 0 0]\n",
      " [0 0 0 0 0 0 0 0 8 0]\n",
      " [0 0 0 0 0 0 0 0 0 9]]\n"
     ]
    }
   ],
   "source": [
    "D = np.diag(np.arange(10))\n",
    "print D"
   ]
  },
  {
   "cell_type": "code",
   "execution_count": 20,
   "metadata": {
    "collapsed": false
   },
   "outputs": [
    {
     "name": "stdout",
     "output_type": "stream",
     "text": [
      "[0 1 2 3 4 5 6 7 8 9]\n"
     ]
    }
   ],
   "source": [
    "print np.arange(10)"
   ]
  },
  {
   "cell_type": "code",
   "execution_count": 21,
   "metadata": {
    "collapsed": false
   },
   "outputs": [
    {
     "name": "stdout",
     "output_type": "stream",
     "text": [
      "[ 0  1  2  3  4  5  6  7  8  9 10 11 12 13 14 15 16 17 18 19]\n"
     ]
    }
   ],
   "source": [
    "A = np.arange(20)\n",
    "print A"
   ]
  },
  {
   "cell_type": "code",
   "execution_count": 22,
   "metadata": {
    "collapsed": false
   },
   "outputs": [
    {
     "data": {
      "text/plain": [
       "array([[ 0,  1,  2,  3,  4],\n",
       "       [ 5,  6,  7,  8,  9],\n",
       "       [10, 11, 12, 13, 14],\n",
       "       [15, 16, 17, 18, 19]])"
      ]
     },
     "execution_count": 22,
     "metadata": {},
     "output_type": "execute_result"
    }
   ],
   "source": [
    "A.reshape(4, 5)"
   ]
  },
  {
   "cell_type": "code",
   "execution_count": 23,
   "metadata": {
    "collapsed": true
   },
   "outputs": [],
   "source": [
    "A = np.random.rand(3, 5)"
   ]
  },
  {
   "cell_type": "code",
   "execution_count": 24,
   "metadata": {
    "collapsed": true
   },
   "outputs": [],
   "source": [
    "B = np.random.rand(3, 5)"
   ]
  },
  {
   "cell_type": "code",
   "execution_count": 25,
   "metadata": {
    "collapsed": false
   },
   "outputs": [
    {
     "name": "stdout",
     "output_type": "stream",
     "text": [
      "[[ 0.46364973  0.10423791  0.09634227  0.7967927   0.19425797]\n",
      " [ 0.00924519  0.27063253  0.65596312  0.11454223  0.41174864]\n",
      " [ 0.97410649  0.93350112  0.85503566  0.41026753  0.99023657]] [[ 0.40792174  0.9013799   0.01553005  0.35327274  0.52952229]\n",
      " [ 0.24303907  0.16349721  0.75512525  0.86574608  0.48374849]\n",
      " [ 0.78305605  0.49905654  0.42901185  0.7382141   0.39110881]]\n"
     ]
    }
   ],
   "source": [
    "print A, B"
   ]
  },
  {
   "cell_type": "code",
   "execution_count": 26,
   "metadata": {
    "collapsed": false
   },
   "outputs": [
    {
     "name": "stdout",
     "output_type": "stream",
     "text": [
      "[[ 0.46364973  0.10423791  0.09634227  0.7967927   0.19425797]\n",
      " [ 0.00924519  0.27063253  0.65596312  0.11454223  0.41174864]\n",
      " [ 0.97410649  0.93350112  0.85503566  0.41026753  0.99023657]]\n"
     ]
    }
   ],
   "source": [
    "print A"
   ]
  },
  {
   "cell_type": "code",
   "execution_count": 27,
   "metadata": {
    "collapsed": false
   },
   "outputs": [
    {
     "name": "stdout",
     "output_type": "stream",
     "text": [
      "[[ 0.40792174  0.9013799   0.01553005  0.35327274  0.52952229]\n",
      " [ 0.24303907  0.16349721  0.75512525  0.86574608  0.48374849]\n",
      " [ 0.78305605  0.49905654  0.42901185  0.7382141   0.39110881]]\n"
     ]
    }
   ],
   "source": [
    "print B"
   ]
  },
  {
   "cell_type": "code",
   "execution_count": 28,
   "metadata": {
    "collapsed": false
   },
   "outputs": [
    {
     "name": "stdout",
     "output_type": "stream",
     "text": [
      "[[ 0.87157147  1.00561781  0.11187232  1.15006544  0.72378026]\n",
      " [ 0.25228427  0.43412974  1.41108837  0.98028831  0.89549713]\n",
      " [ 1.75716254  1.43255765  1.28404751  1.14848163  1.38134537]]\n"
     ]
    }
   ],
   "source": [
    "C = A + B\n",
    "print C"
   ]
  },
  {
   "cell_type": "code",
   "execution_count": 29,
   "metadata": {
    "collapsed": false
   },
   "outputs": [
    {
     "name": "stdout",
     "output_type": "stream",
     "text": [
      "[[ 0.1891328   0.09395796  0.0014962   0.28148514  0.10286392]\n",
      " [ 0.00224694  0.04424766  0.49533432  0.09916449  0.19918278]\n",
      " [ 0.76277998  0.46586983  0.36682043  0.30286527  0.38729024]]\n"
     ]
    }
   ],
   "source": [
    "C = A * B\n",
    "print C"
   ]
  },
  {
   "cell_type": "code",
   "execution_count": 31,
   "metadata": {
    "collapsed": false
   },
   "outputs": [
    {
     "name": "stdout",
     "output_type": "stream",
     "text": [
      "[[ 0.  0.  0.  0.  0.]\n",
      " [ 0.  0.  0.  0.  0.]\n",
      " [ 0.  0.  0.  0.  0.]]\n"
     ]
    }
   ],
   "source": [
    "C1 = np.zeros((3,5))\n",
    "print C1"
   ]
  },
  {
   "cell_type": "code",
   "execution_count": 32,
   "metadata": {
    "collapsed": true
   },
   "outputs": [],
   "source": [
    "for i in range(3):\n",
    "    for j in range(5): \n",
    "        C1[i,j] = A[i,j] * B[i,j]"
   ]
  },
  {
   "cell_type": "code",
   "execution_count": 33,
   "metadata": {
    "collapsed": false
   },
   "outputs": [
    {
     "name": "stdout",
     "output_type": "stream",
     "text": [
      "[[ 0.  0.  0.  0.  0.]\n",
      " [ 0.  0.  0.  0.  0.]\n",
      " [ 0.  0.  0.  0.  0.]]\n"
     ]
    }
   ],
   "source": [
    "print C - C1"
   ]
  },
  {
   "cell_type": "code",
   "execution_count": 34,
   "metadata": {
    "collapsed": false
   },
   "outputs": [
    {
     "ename": "ValueError",
     "evalue": "shapes (3,5) and (3,5) not aligned: 5 (dim 1) != 3 (dim 0)",
     "output_type": "error",
     "traceback": [
      "\u001b[0;31m---------------------------------------------------------------------------\u001b[0m",
      "\u001b[0;31mValueError\u001b[0m                                Traceback (most recent call last)",
      "\u001b[0;32m<ipython-input-34-9dcf053f9e4b>\u001b[0m in \u001b[0;36m<module>\u001b[0;34m()\u001b[0m\n\u001b[0;32m----> 1\u001b[0;31m \u001b[0mD\u001b[0m \u001b[1;33m=\u001b[0m \u001b[0mnp\u001b[0m\u001b[1;33m.\u001b[0m\u001b[0mdot\u001b[0m\u001b[1;33m(\u001b[0m\u001b[0mA\u001b[0m\u001b[1;33m,\u001b[0m \u001b[0mB\u001b[0m\u001b[1;33m)\u001b[0m\u001b[1;33m\u001b[0m\u001b[0m\n\u001b[0m",
      "\u001b[0;31mValueError\u001b[0m: shapes (3,5) and (3,5) not aligned: 5 (dim 1) != 3 (dim 0)"
     ]
    }
   ],
   "source": [
    "D = np.dot(A, B)"
   ]
  },
  {
   "cell_type": "code",
   "execution_count": 35,
   "metadata": {
    "collapsed": true
   },
   "outputs": [],
   "source": [
    "D = np.dot(A, B.T)"
   ]
  },
  {
   "cell_type": "code",
   "execution_count": 36,
   "metadata": {
    "collapsed": false
   },
   "outputs": [
    {
     "name": "stdout",
     "output_type": "stream",
     "text": [
      "[[ 0.66893602  0.98627024  1.12059591]\n",
      " [ 0.51639592  0.84017619  0.6693116 ]\n",
      " [ 1.92136578  1.86924273  2.28562576]]\n"
     ]
    }
   ],
   "source": [
    "print D"
   ]
  },
  {
   "cell_type": "code",
   "execution_count": 37,
   "metadata": {
    "collapsed": true
   },
   "outputs": [],
   "source": [
    "D1 = np.zeros((3,3))"
   ]
  },
  {
   "cell_type": "code",
   "execution_count": 38,
   "metadata": {
    "collapsed": true
   },
   "outputs": [],
   "source": [
    "for i in range(3):\n",
    "    for j in range(3):\n",
    "        for k in range(5): \n",
    "            D1[i,j] += A[i,k] * B.T[k,j]"
   ]
  },
  {
   "cell_type": "code",
   "execution_count": 39,
   "metadata": {
    "collapsed": false
   },
   "outputs": [
    {
     "name": "stdout",
     "output_type": "stream",
     "text": [
      "[[ 0.66893602  0.98627024  1.12059591]\n",
      " [ 0.51639592  0.84017619  0.6693116 ]\n",
      " [ 1.92136578  1.86924273  2.28562576]]\n"
     ]
    }
   ],
   "source": [
    "print D1"
   ]
  },
  {
   "cell_type": "code",
   "execution_count": 40,
   "metadata": {
    "collapsed": false
   },
   "outputs": [
    {
     "name": "stdout",
     "output_type": "stream",
     "text": [
      "[[ 0.66893602  0.98627024  1.12059591]\n",
      " [ 0.51639592  0.84017619  0.6693116 ]\n",
      " [ 1.92136578  1.86924273  2.28562576]]\n"
     ]
    }
   ],
   "source": [
    "print D"
   ]
  },
  {
   "cell_type": "code",
   "execution_count": 41,
   "metadata": {
    "collapsed": false
   },
   "outputs": [
    {
     "name": "stdout",
     "output_type": "stream",
     "text": [
      "[[ 0.46364973  0.10423791  0.09634227  0.7967927   0.19425797]\n",
      " [ 0.00924519  0.27063253  0.65596312  0.11454223  0.41174864]\n",
      " [ 0.97410649  0.93350112  0.85503566  0.41026753  0.99023657]]\n"
     ]
    }
   ],
   "source": [
    "print A"
   ]
  },
  {
   "cell_type": "code",
   "execution_count": 42,
   "metadata": {
    "collapsed": false
   },
   "outputs": [
    {
     "name": "stdout",
     "output_type": "stream",
     "text": [
      "[[ 1.39094918  0.31271372  0.2890268   2.3903781   0.5827739 ]\n",
      " [ 0.02773558  0.8118976   1.96788937  0.3436267   1.23524591]\n",
      " [ 2.92231947  2.80050335  2.56510699  1.23080259  2.9707097 ]]\n"
     ]
    }
   ],
   "source": [
    "A *= 3\n",
    "print A"
   ]
  },
  {
   "cell_type": "code",
   "execution_count": 43,
   "metadata": {
    "collapsed": true
   },
   "outputs": [],
   "source": [
    "A += 3"
   ]
  },
  {
   "cell_type": "code",
   "execution_count": 44,
   "metadata": {
    "collapsed": false
   },
   "outputs": [
    {
     "name": "stdout",
     "output_type": "stream",
     "text": [
      "[[ 4.39094918  3.31271372  3.2890268   5.3903781   3.5827739 ]\n",
      " [ 3.02773558  3.8118976   4.96788937  3.3436267   4.23524591]\n",
      " [ 5.92231947  5.80050335  5.56510699  4.23080259  5.9707097 ]]\n"
     ]
    }
   ],
   "source": [
    "print A"
   ]
  },
  {
   "cell_type": "code",
   "execution_count": 45,
   "metadata": {
    "collapsed": true
   },
   "outputs": [],
   "source": [
    "sa = np.zeros(3)"
   ]
  },
  {
   "cell_type": "code",
   "execution_count": 46,
   "metadata": {
    "collapsed": false
   },
   "outputs": [
    {
     "name": "stdout",
     "output_type": "stream",
     "text": [
      "[ 0.  0.  0.]\n"
     ]
    }
   ],
   "source": [
    "print sa"
   ]
  },
  {
   "cell_type": "code",
   "execution_count": 47,
   "metadata": {
    "collapsed": true
   },
   "outputs": [],
   "source": [
    "for i in range(3): \n",
    "    for j in range(5):\n",
    "        sa[i] += A[i,j]"
   ]
  },
  {
   "cell_type": "code",
   "execution_count": 48,
   "metadata": {
    "collapsed": false
   },
   "outputs": [
    {
     "name": "stdout",
     "output_type": "stream",
     "text": [
      "[ 19.96584171  19.38639516  27.48944209]\n"
     ]
    }
   ],
   "source": [
    "print sa"
   ]
  },
  {
   "cell_type": "code",
   "execution_count": 49,
   "metadata": {
    "collapsed": false
   },
   "outputs": [
    {
     "name": "stdout",
     "output_type": "stream",
     "text": [
      "[ 13.34100423  12.92511467  13.82202316  12.96480739  13.7887295 ]\n"
     ]
    }
   ],
   "source": [
    "print A.sum(axis=0)"
   ]
  },
  {
   "cell_type": "code",
   "execution_count": 51,
   "metadata": {
    "collapsed": false
   },
   "outputs": [
    {
     "name": "stdout",
     "output_type": "stream",
     "text": [
      "[ 19.96584171  19.38639516  27.48944209]\n"
     ]
    }
   ],
   "source": [
    "print A.sum(axis=1)"
   ]
  },
  {
   "cell_type": "code",
   "execution_count": 52,
   "metadata": {
    "collapsed": false
   },
   "outputs": [
    {
     "name": "stdout",
     "output_type": "stream",
     "text": [
      "[ 5.92231947  5.80050335  5.56510699  5.3903781   5.9707097 ]\n"
     ]
    }
   ],
   "source": [
    "print A.max(axis=0)"
   ]
  },
  {
   "cell_type": "code",
   "execution_count": 53,
   "metadata": {
    "collapsed": false
   },
   "outputs": [
    {
     "name": "stdout",
     "output_type": "stream",
     "text": [
      "[[ 4.39094918  3.31271372  3.2890268   5.3903781   3.5827739 ]\n",
      " [ 3.02773558  3.8118976   4.96788937  3.3436267   4.23524591]\n",
      " [ 5.92231947  5.80050335  5.56510699  4.23080259  5.9707097 ]]\n"
     ]
    }
   ],
   "source": [
    "print A"
   ]
  },
  {
   "cell_type": "code",
   "execution_count": 54,
   "metadata": {
    "collapsed": false
   },
   "outputs": [
    {
     "name": "stdout",
     "output_type": "stream",
     "text": [
      "[[ 2.09545918  1.82008619  1.81356742  2.32171878  1.89282168]\n",
      " [ 1.74003896  1.95240815  2.22887626  1.82855864  2.05797131]\n",
      " [ 2.43358161  2.40842341  2.3590479   2.05689149  2.44350357]]\n"
     ]
    }
   ],
   "source": [
    "B = np.sqrt(A)\n",
    "print B"
   ]
  },
  {
   "cell_type": "code",
   "execution_count": 56,
   "metadata": {
    "collapsed": false
   },
   "outputs": [
    {
     "data": {
      "text/plain": [
       "2.0954591811749226"
      ]
     },
     "execution_count": 56,
     "metadata": {},
     "output_type": "execute_result"
    }
   ],
   "source": [
    "np.sqrt(A[0,0])"
   ]
  },
  {
   "cell_type": "code",
   "execution_count": 57,
   "metadata": {
    "collapsed": true
   },
   "outputs": [],
   "source": []
  },
  {
   "cell_type": "code",
   "execution_count": 64,
   "metadata": {
    "collapsed": false
   },
   "outputs": [
    {
     "name": "stdout",
     "output_type": "stream",
     "text": [
      "3.18299984932\n"
     ]
    }
   ],
   "source": [
    "n = 100\n",
    "m = 300\n",
    "A = np.random.randn(n, m)\n",
    "B = np.random.randn(n, m)\n",
    "C = np.zeros((n, n))\n",
    "t1 = time.time()\n",
    "for i in range(n):\n",
    "    for j in range(n):\n",
    "        for k in range(m):\n",
    "            C[i,j] += A[i,k] * B.T[k,j]\n",
    "t2 = time.time()\n",
    "print t2 - t1"
   ]
  },
  {
   "cell_type": "code",
   "execution_count": 73,
   "metadata": {
    "collapsed": false
   },
   "outputs": [
    {
     "name": "stdout",
     "output_type": "stream",
     "text": [
      "0.426999807358\n"
     ]
    }
   ],
   "source": [
    "n = 5000\n",
    "m = 300\n",
    "A = np.random.randn(n, m)\n",
    "B = np.random.randn(n, m)\n",
    "t3 = time.time()\n",
    "C1 = np.dot(A, B.T)\n",
    "t4 = time.time()\n",
    "print t4 - t3"
   ]
  },
  {
   "cell_type": "code",
   "execution_count": 79,
   "metadata": {
    "collapsed": false
   },
   "outputs": [
    {
     "name": "stdout",
     "output_type": "stream",
     "text": [
      "4.26499986649\n"
     ]
    }
   ],
   "source": [
    "w = np.random.randn(n, 1)\n",
    "wt = np.zeros((m,1))\n",
    "t1 = time.time()\n",
    "for i in range(m):\n",
    "    for j in range(n):\n",
    "        wt[i] += B.T[i,j] * w[j]\n",
    "t2 = time.time()\n",
    "print t2 - t1"
   ]
  },
  {
   "cell_type": "code",
   "execution_count": 78,
   "metadata": {
    "collapsed": false
   },
   "outputs": [
    {
     "name": "stdout",
     "output_type": "stream",
     "text": [
      "0.0269999504089\n"
     ]
    }
   ],
   "source": [
    "t3 = time.time()\n",
    "wt = np.dot(B.T, w)\n",
    "t4 = time.time()\n",
    "print t4 - t3"
   ]
  },
  {
   "cell_type": "code",
   "execution_count": 80,
   "metadata": {
    "collapsed": false
   },
   "outputs": [
    {
     "name": "stdout",
     "output_type": "stream",
     "text": [
      "0.430999994278 0.0\n"
     ]
    }
   ],
   "source": [
    "n = 5000\n",
    "m = 300\n",
    "w = np.random.randn(n, 1)\n",
    "A = np.random.randn(n, m)\n",
    "B = np.random.randn(n, m)\n",
    "\n",
    "t1 = time.time()\n",
    "v = np.dot(np.dot(A, B.T), w)\n",
    "t2 = time.time()\n",
    "\n",
    "t3 = time.time()\n",
    "v2 = np.dot(A, np.dot(B.T, w))\n",
    "t4 = time.time()\n",
    "\n",
    "print t2-t1, t4-t3"
   ]
  },
  {
   "cell_type": "code",
   "execution_count": 83,
   "metadata": {
    "collapsed": false
   },
   "outputs": [
    {
     "name": "stdout",
     "output_type": "stream",
     "text": [
      "2726.08447969 2726.08447969 2726.08447969\n",
      "0.00999999046326 0.0899999141693 7.0720000267\n"
     ]
    }
   ],
   "source": [
    "n = 1\n",
    "m = 5000\n",
    "l = 5000\n",
    "A = np.random.randn(n, m)\n",
    "B = np.random.randn(m, l)\n",
    "C = np.random.randn(l, n)\n",
    "\n",
    "t1 = time.time()\n",
    "a1 = np.trace(np.dot(np.dot(A, B), C))\n",
    "t2 = time.time()\n",
    "a2 = np.trace(np.dot(np.dot(B, C), A))\n",
    "t3 = time.time()\n",
    "a3 = np.trace(np.dot(np.dot(C, A), B))\n",
    "t4 = time.time()\n",
    "\n",
    "print a1, a2, a3\n",
    "\n",
    "print t2-t1, t3-t2, t4-t3"
   ]
  },
  {
   "cell_type": "code",
   "execution_count": 84,
   "metadata": {
    "collapsed": false
   },
   "outputs": [
    {
     "name": "stdout",
     "output_type": "stream",
     "text": [
      "(1L, 5000L) (5000L, 5000L)\n"
     ]
    }
   ],
   "source": [
    "print A.shape, B.shape"
   ]
  },
  {
   "cell_type": "code",
   "execution_count": 87,
   "metadata": {
    "collapsed": false
   },
   "outputs": [],
   "source": [
    "D = np.vstack((A, B))"
   ]
  },
  {
   "cell_type": "code",
   "execution_count": 88,
   "metadata": {
    "collapsed": false
   },
   "outputs": [
    {
     "name": "stdout",
     "output_type": "stream",
     "text": [
      "(5001L, 5000L)\n"
     ]
    }
   ],
   "source": [
    "print D.shape"
   ]
  },
  {
   "cell_type": "code",
   "execution_count": 89,
   "metadata": {
    "collapsed": false
   },
   "outputs": [
    {
     "name": "stdout",
     "output_type": "stream",
     "text": [
      "(5000L, 1L)\n"
     ]
    }
   ],
   "source": [
    "print C.shape"
   ]
  },
  {
   "cell_type": "code",
   "execution_count": 91,
   "metadata": {
    "collapsed": false
   },
   "outputs": [],
   "source": [
    "E = np.hstack((B,C))"
   ]
  },
  {
   "cell_type": "code",
   "execution_count": 92,
   "metadata": {
    "collapsed": false
   },
   "outputs": [
    {
     "name": "stdout",
     "output_type": "stream",
     "text": [
      "(5000L, 5001L)\n"
     ]
    }
   ],
   "source": [
    "print E.shape"
   ]
  },
  {
   "cell_type": "code",
   "execution_count": 101,
   "metadata": {
    "collapsed": true
   },
   "outputs": [],
   "source": [
    "A = np.random.randn(10, 10)"
   ]
  },
  {
   "cell_type": "code",
   "execution_count": 102,
   "metadata": {
    "collapsed": true
   },
   "outputs": [],
   "source": [
    "A = A * A.T"
   ]
  },
  {
   "cell_type": "code",
   "execution_count": 103,
   "metadata": {
    "collapsed": false
   },
   "outputs": [
    {
     "name": "stdout",
     "output_type": "stream",
     "text": [
      "[[ 0.90646794 -0.36369975 -1.87483706  0.45298803  0.12268087  0.022954\n",
      "  -0.00796362  0.74801245  0.10650752  0.0494469 ]\n",
      " [-0.36369975  1.52031226  5.30907245  0.00768765 -0.90123703  0.34338958\n",
      "   0.67307372 -2.8544615   0.767813   -0.01597416]\n",
      " [-1.87483706  5.30907245  0.14595197 -1.04350859  1.89367101 -0.78873008\n",
      "   0.0226291   0.04439682 -1.11326715  0.45909311]\n",
      " [ 0.45298803  0.00768765 -1.04350859  1.36978251 -0.02270202 -0.05659131\n",
      "  -0.21661932 -0.41496501  0.58838947  0.69747529]\n",
      " [ 0.12268087 -0.90123703  1.89367101 -0.02270202  0.68678776  0.91135106\n",
      "  -0.10774987 -0.44598552 -1.49653517 -0.43029485]\n",
      " [ 0.022954    0.34338958 -0.78873008 -0.05659131  0.91135106  1.21910266\n",
      "  -0.1918078   0.24824484 -0.68089578 -2.63428079]\n",
      " [-0.00796362  0.67307372  0.0226291  -0.21661932 -0.10774987 -0.1918078\n",
      "   0.05852881 -0.40281653  0.30498155  0.82809572]\n",
      " [ 0.74801245 -2.8544615   0.04439682 -0.41496501 -0.44598552  0.24824484\n",
      "  -0.40281653  0.0259355   1.45293608 -3.32286717]\n",
      " [ 0.10650752  0.767813   -1.11326715  0.58838947 -1.49653517 -0.68089578\n",
      "   0.30498155  1.45293608  0.12767266 -1.74899675]\n",
      " [ 0.0494469  -0.01597416  0.45909311  0.69747529 -0.43029485 -2.63428079\n",
      "   0.82809572 -3.32286717 -1.74899675  0.25257491]]\n"
     ]
    }
   ],
   "source": [
    "print A"
   ]
  },
  {
   "cell_type": "code",
   "execution_count": 109,
   "metadata": {
    "collapsed": false
   },
   "outputs": [],
   "source": [
    "# eigen decomposition; \n",
    "w, v = np.linalg.eig(A)"
   ]
  },
  {
   "cell_type": "code",
   "execution_count": 110,
   "metadata": {
    "collapsed": false
   },
   "outputs": [
    {
     "name": "stdout",
     "output_type": "stream",
     "text": [
      "[-6.72620567  7.97027148 -3.88820678  4.75911966 -1.88797393  3.18766803\n",
      "  1.84159198 -0.15515913  0.67579979  0.53621156]\n"
     ]
    }
   ],
   "source": [
    "print w"
   ]
  },
  {
   "cell_type": "code",
   "execution_count": 111,
   "metadata": {
    "collapsed": false
   },
   "outputs": [
    {
     "name": "stdout",
     "output_type": "stream",
     "text": [
      "[[ 0.16018559  0.21964111  0.01683401  0.14142205 -0.03646813  0.01609614\n",
      "   0.30535875  0.22446827  0.46681611  0.73666717]\n",
      " [-0.56726542 -0.6025265  -0.10717006 -0.26040628 -0.00561048  0.33926409\n",
      "   0.26496649  0.13698498  0.14417025  0.10481472]\n",
      " [ 0.60373411 -0.54115107  0.22749332 -0.31778194 -0.24430168 -0.01151424\n",
      "  -0.12770535 -0.02739222 -0.20591011  0.26579732]\n",
      " [ 0.05658673  0.06258832 -0.06329369  0.26069732 -0.25125458  0.13995079\n",
      "   0.70077413 -0.18963982 -0.5572307   0.02535094]\n",
      " [-0.24082331 -0.08532059  0.01329697 -0.17041998  0.46186789 -0.60777543\n",
      "   0.07953321 -0.3462704  -0.24139615  0.37187499]\n",
      " [ 0.07277137  0.1313827   0.42954291 -0.45617106 -0.06356207 -0.27618639\n",
      "   0.4986694   0.02968789  0.31842945 -0.39188628]\n",
      " [ 0.04827852 -0.09974855 -0.10654528  0.09803999 -0.18938308  0.1139983\n",
      "  -0.01055534 -0.85028458  0.44066351 -0.02478895]\n",
      " [-0.40081225  0.39135868  0.33387776 -0.33054289 -0.48861124  0.12995856\n",
      "  -0.26286432 -0.13517176 -0.20813581  0.28130982]\n",
      " [ 0.14164883  0.16139263  0.36325934 -0.13492605  0.61884046  0.61354519\n",
      "   0.03257246 -0.17768553 -0.09285927  0.05539377]\n",
      " [-0.1962559  -0.27974601  0.7021427   0.60747792 -0.02989852 -0.11370827\n",
      "  -0.062362    0.02288085  0.05094632 -0.01898476]]\n"
     ]
    }
   ],
   "source": [
    "print v"
   ]
  },
  {
   "cell_type": "code",
   "execution_count": 112,
   "metadata": {
    "collapsed": true
   },
   "outputs": [],
   "source": [
    "# represent a matrix by eigenvectors and values. \n",
    "A2 = np.dot(np.dot(v, np.diag(w)), v.T)"
   ]
  },
  {
   "cell_type": "code",
   "execution_count": 116,
   "metadata": {
    "collapsed": false
   },
   "outputs": [
    {
     "name": "stdout",
     "output_type": "stream",
     "text": [
      "1.15473453629e-14\n",
      "[[ -5.55111512e-16  -9.99200722e-16   1.77635684e-15  -7.21644966e-16\n",
      "    1.94289029e-16   1.80411242e-16   3.46944695e-16  -4.44089210e-16\n",
      "   -4.30211422e-16  -6.38378239e-16]\n",
      " [ -1.05471187e-15   4.44089210e-15   2.66453526e-15  -4.78783679e-16\n",
      "    1.33226763e-15  -1.66533454e-15   2.22044605e-16   0.00000000e+00\n",
      "   -1.11022302e-16   1.47451495e-15]\n",
      " [  1.77635684e-15   2.66453526e-15   2.49800181e-15  -2.22044605e-16\n",
      "    2.22044605e-16   0.00000000e+00   5.03069808e-16  -3.55271368e-15\n",
      "    1.77635684e-15  -8.88178420e-16]\n",
      " [ -7.77156117e-16  -4.85722573e-16  -2.22044605e-16  -1.11022302e-15\n",
      "    8.95117314e-16  -6.59194921e-16   4.44089210e-16   2.77555756e-16\n",
      "   -9.99200722e-16  -6.66133815e-16]\n",
      " [  2.08166817e-16   1.33226763e-15   2.22044605e-16   8.39606162e-16\n",
      "   -1.44328993e-15   1.11022302e-16  -7.63278329e-16  -6.66133815e-16\n",
      "    1.11022302e-15   2.77555756e-16]\n",
      " [  1.52655666e-16  -1.55431223e-15   3.33066907e-16  -6.45317133e-16\n",
      "    1.11022302e-16   1.33226763e-15  -7.77156117e-16  -3.88578059e-16\n",
      "   -3.33066907e-16   8.88178420e-16]\n",
      " [  3.48679419e-16   2.22044605e-16   5.03069808e-16   4.16333634e-16\n",
      "   -7.63278329e-16  -7.21644966e-16   5.55111512e-17  -5.55111512e-16\n",
      "    7.21644966e-16  -1.11022302e-16]\n",
      " [ -4.44089210e-16   0.00000000e+00  -3.56659147e-15   3.88578059e-16\n",
      "   -4.44089210e-16  -3.60822483e-16  -6.10622664e-16   1.13450915e-15\n",
      "    4.44089210e-16  -1.33226763e-15]\n",
      " [ -4.85722573e-16  -2.22044605e-16   1.77635684e-15  -8.88178420e-16\n",
      "    1.55431223e-15  -3.33066907e-16   8.32667268e-16   6.66133815e-16\n",
      "    4.71844785e-16  -1.55431223e-15]\n",
      " [ -5.82867088e-16   1.39471767e-15  -9.43689571e-16  -6.66133815e-16\n",
      "    4.44089210e-16   0.00000000e+00  -2.22044605e-16  -1.77635684e-15\n",
      "   -1.33226763e-15  -1.27675648e-15]]\n"
     ]
    }
   ],
   "source": [
    "print np.linalg.norm(A-A2)\n",
    "print A - A2"
   ]
  },
  {
   "cell_type": "code",
   "execution_count": null,
   "metadata": {
    "collapsed": true
   },
   "outputs": [],
   "source": []
  }
 ],
 "metadata": {
  "kernelspec": {
   "display_name": "Python [conda root]",
   "language": "python",
   "name": "conda-root-py"
  },
  "language_info": {
   "codemirror_mode": {
    "name": "ipython",
    "version": 2
   },
   "file_extension": ".py",
   "mimetype": "text/x-python",
   "name": "python",
   "nbconvert_exporter": "python",
   "pygments_lexer": "ipython2",
   "version": "2.7.12"
  }
 },
 "nbformat": 4,
 "nbformat_minor": 1
}
